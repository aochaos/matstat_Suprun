{
  "metadata": {
    "kernelspec": {
      "name": "python",
      "display_name": "Python (Pyodide)",
      "language": "python"
    },
    "language_info": {
      "codemirror_mode": {
        "name": "python",
        "version": 3
      },
      "file_extension": ".py",
      "mimetype": "text/x-python",
      "name": "python",
      "nbconvert_exporter": "python",
      "pygments_lexer": "ipython3",
      "version": "3.8"
    }
  },
  "nbformat_minor": 4,
  "nbformat": 4,
  "cells": [
    {
      "cell_type": "markdown",
      "source": "---\ntitle: \"Лабораторна робота №2. Функція `print()`\"\ndescription:\n  Документ зроблено за допомогою [Quarto](https://quarto.org/)\nauthor: \"&copy; [<span style='color: blue;'>Valeriy Sydorenko </span>](https://www.linkedin.com/in/valeriy-sydorenko-6782279a/), 2023\"\ndate: \"09.14.2023\"\nlang: ukr\nformat:\n  html:\n    code-fold: true\n    toc: true # меню\n    toc_float: # спливаюче меню  \n      collapsed: true # авто\n      number_sections: true\njupyter: python3\n---",
      "metadata": {}
    },
    {
      "cell_type": "markdown",
      "source": "__Мета:__ _навчитися писати і запускати найпростіші програми на Python з використанням функції `print()`_",
      "metadata": {}
    },
    {
      "cell_type": "markdown",
      "source": "::: callout-note\n## Примітка\nПеред виконанням лабораторної роботи необхідно опрацювати матеріал __Лекції 2__.\n:::",
      "metadata": {}
    },
    {
      "cell_type": "markdown",
      "source": "::: callout-note\n## Примітка\nУ лабораторній роботі використано матеріали [python institute.](https://pythoninstitute.org/pcep) \n:::",
      "metadata": {}
    },
    {
      "cell_type": "markdown",
      "source": "#### Що ви будете вміти?\n* використовувати функцію `print()` Python.\n* писати, выдлагоджувати та запускати прогарми на Python у середовищі IDE PyCharm.\n* обчислювати математичні вирази з використанням математичних операцій.",
      "metadata": {}
    },
    {
      "cell_type": "markdown",
      "source": "## Функція `print()`",
      "metadata": {}
    },
    {
      "cell_type": "markdown",
      "source": "Розглянемо можливості функції `print()`, виконавши низку прикладів.\n\n1. Змінити код програми, щоби очикуваний результат виглядав наступним чином:",
      "metadata": {}
    },
    {
      "cell_type": "markdown",
      "source": "`Programming***Essentials***in...Python`",
      "metadata": {}
    },
    {
      "cell_type": "code",
      "source": "print(\"Programming\", \"Essentials\", \"in\", sep=\"***\", end=\"...\")\nprint(\"Python\")",
      "metadata": {
        "trusted": true
      },
      "outputs": [
        {
          "name": "stdout",
          "text": "Programming***Essentials***in...Python\n",
          "output_type": "stream"
        }
      ],
      "execution_count": 1
    },
    {
      "cell_type": "markdown",
      "source": "<!-- 2 --> ",
      "metadata": {}
    },
    {
      "cell_type": "markdown",
      "source": "2. Написати програму, яка виводила б на екран наступну картинку:",
      "metadata": {}
    },
    {
      "cell_type": "markdown",
      "source": "![](attachment:image.png)",
      "metadata": {},
      "attachments": {
        "image.png": {
          "image/png": "[encoded data removed]"
        }
      }
    },
    {
      "cell_type": "code",
      "source": "# Верхня частина\nprint(\"    *\")\nprint(\"   * *\")\nprint(\"  *   *\")\nprint(\" *     *\")\nprint(\"***   ***\")\n\n\nfor _ in range(3):\n    print(\"  *   *\")\n\n\nprint(\"  *****\")\n",
      "metadata": {
        "trusted": true
      },
      "outputs": [
        {
          "name": "stdout",
          "text": "    *\n   * *\n  *   *\n *     *\n***   ***\n  *   *\n  *   *\n  *   *\n  *****\n",
          "output_type": "stream"
        }
      ],
      "execution_count": 5
    },
    {
      "cell_type": "markdown",
      "source": "3. Вивести на екран наступний рядок:",
      "metadata": {}
    },
    {
      "cell_type": "markdown",
      "source": "`I'm student`",
      "metadata": {}
    },
    {
      "cell_type": "code",
      "source": "print(\"I'm student\")",
      "metadata": {
        "trusted": true
      },
      "outputs": [
        {
          "name": "stdout",
          "text": "I'm student\n",
          "output_type": "stream"
        }
      ],
      "execution_count": 6
    },
    {
      "cell_type": "markdown",
      "source": "4. Написати фрагмент кода в один рядок, використовуючи функцію `print()`, а також символи нового рядка та esсape-символи, щоби відповідати очикуваному результату, виведеному у трьох рядках: ",
      "metadata": {}
    },
    {
      "cell_type": "markdown",
      "source": "![](attachment:image-2.png)",
      "metadata": {},
      "attachments": {
        "image-2.png": {
          "image/png": "[encoded data removed]"
        }
      }
    },
    {
      "cell_type": "code",
      "source": "print(\"\\\"I'm\\\"\\n\\\"\\\"learning\\\"\\\"\\n\\\"\\\"\\\"Python\\\"\\\"\\\"\")\n",
      "metadata": {
        "trusted": true
      },
      "outputs": [
        {
          "name": "stdout",
          "text": "\"I'm\"\n\"\"learning\"\"\n\"\"\"Python\"\"\"\n",
          "output_type": "stream"
        }
      ],
      "execution_count": 20
    },
    {
      "cell_type": "markdown",
      "source": "5. Чому в десятковій системі дорівнює $500_8$? Написати код на Python.",
      "metadata": {}
    },
    {
      "cell_type": "code",
      "source": "decimal_value = int(\"500\", 8)\nprint(decimal_value)",
      "metadata": {
        "trusted": true
      },
      "outputs": [
        {
          "name": "stdout",
          "text": "320\n",
          "output_type": "stream"
        }
      ],
      "execution_count": 21
    },
    {
      "cell_type": "markdown",
      "source": "6. Чому в десятковій системі дорівнює $777_{16}$? Написати код на Python.",
      "metadata": {}
    },
    {
      "cell_type": "code",
      "source": "decimal_value = int(\"777\", 16)\nprint(decimal_value)",
      "metadata": {
        "trusted": true
      },
      "outputs": [
        {
          "name": "stdout",
          "text": "1911\n",
          "output_type": "stream"
        }
      ],
      "execution_count": 22
    },
    {
      "cell_type": "markdown",
      "source": "## Завдання для самостіної роботи\n\n1. Виконати п. 1-6, наведені вище у цьому зошиті.\n\n1. Створити файл __lab_2_StudentLastName.py__ з написаним кодом. \n\n1. Закомітити файл у локальний репозиторій.\n\n1. Відправити (\"запушити\") поточну версію Git-проєкта у віддалений репозиторій на GitHub.\n\n1. Звіт має складатися з файлу (за основу взяти __цей Python-зошит__)  `lab_2_StudentLastName.ipynb`.",
      "metadata": {}
    },
    {
      "cell_type": "markdown",
      "source": "## Контрольні запитання\n\n1. Записати ієрархію операторів.\n\n1. Записти на Python обчислення виразу $3^{3^4}$\n\n1. Що робить escape-символ \\n при виводі на екран функцією `print()`?",
      "metadata": {}
    },
    {
      "cell_type": "markdown",
      "source": "1. Записати ієрархію операторів.\n1. Оператори з найвищим пріоритетом:\nДужки: () — Вираження в дужках виконуються першими.\nІндексування, зрізи, виклики функцій: obj[index], obj[start:stop], func().\n2. Оператори обчислення:\nЕкспоненція: ** — Піднесення до степеня.\nУнарні оператори: +, -, ~ — Унарний плюс, мінус, побітове NOT.\n3. Множення та поділ:\nМноження, поділ, цілочисельний поділ, залишок від ділення: *, /, //, %.\n4. Додавання та віднімання:\n+, - — Додавання та віднімання.\n5. Операції зсуву:\nПобітові зсуви: <<, >>.\n6. Побітові операції:\nПобітове \"AND\": &.\nПобітове \"XOR\": ^.\nПобітове \"OR\": |.\n7. Порівняння:\n==, !=, <, <=, >, >=, is, is not, in, not in.\n8. Логічні оператори:\nnot — Логічне заперечення.\nand — Логічне \"І\".\nor — Логічне \"АБО\".\n9. Оператор присвоєння:\n=, +=, -=, *=, /=, //=, %= тощо.\n10. Оператор визначення виразу:\nLambda: lambda — Створення анонімних функцій",
      "metadata": {}
    },
    {
      "cell_type": "markdown",
      "source": "2. Записти на Python обчислення виразу $3^{3^4}$",
      "metadata": {}
    },
    {
      "cell_type": "code",
      "source": "result = 3 ** (3 ** 4)\nprint(result)\n",
      "metadata": {
        "trusted": true
      },
      "outputs": [
        {
          "name": "stdout",
          "text": "443426488243037769948249630619149892803\n",
          "output_type": "stream"
        }
      ],
      "execution_count": 26
    },
    {
      "cell_type": "markdown",
      "source": "3. Що робить escape-символ \\n при виводі на екран функцією `print()`?\n\nEscape-символ \\n при виведенні на екран через функцію print() в Python викликає перехід на новий рядок. Це означає, що текст після \\n буде виведений на наступному рядку.",
      "metadata": {}
    },
    {
      "cell_type": "markdown",
      "source": "## References",
      "metadata": {}
    },
    {
      "cell_type": "markdown",
      "source": "1. [Anaconda (Python distribution)](https://uk.wikipedia.org/wiki/Anaconda_(Python_distribution))\n2. [Conda](https://conda.io/en/latest/)\n3. [Pro Git Book](https://git-scm.com/book/en/v2)\n4. [OpenEDG Python Institute](https://pythoninstitute.org/)\n5. [Cisco. Networking Academy](https://www.netacad.com/) \n6. [ЧТО ТАКОЕ ЯП PYTHON? УСТАНОВКА ПАЙТОНА НА WINDOWS 11 !](https://www.youtube.com/watch?v=nQMddf_6KoM&list=PLV0FNhq3XMOKljD7POtuWVAZn8wXcn4-L)",
      "metadata": {}
    }
  ]
}