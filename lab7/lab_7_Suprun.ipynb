{
  "metadata": {
    "kernelspec": {
      "name": "python",
      "display_name": "Python (Pyodide)",
      "language": "python"
    },
    "language_info": {
      "codemirror_mode": {
        "name": "python",
        "version": 3
      },
      "file_extension": ".py",
      "mimetype": "text/x-python",
      "name": "python",
      "nbconvert_exporter": "python",
      "pygments_lexer": "ipython3",
      "version": "3.8"
    }
  },
  "nbformat_minor": 4,
  "nbformat": 4,
  "cells": [
    {
      "cell_type": "markdown",
      "source": "---\ntitle: 'Лабораторна робота №7. Словники, кортежі. Обробка винятків (empty)'\ndescription:\n   Документ зроблено за допомогою [Quarto](https://quarto.org/)\nauthor: \"&copy; [<span style='color: blue;'>Valeriy Sydorenko </span>](https://www.linkedin.com/in/valeriy-sydorenko-6782279a/), 2023\"\ndate: \"10.05.2023\"\nlang: ukr\nformat:\n  html:\n    code-fold: true\n    toc: true # меню\n    toc_float: # спливаюче меню  \n      collapsed: true # авто\n      number_sections: true\njupyter: python3\n---",
      "metadata": {}
    },
    {
      "cell_type": "markdown",
      "source": "__Мета:__ _навчитися працювати зі структурами даних Кортеж та Словник. Навчитись обробляти основні типи винятків_",
      "metadata": {}
    },
    {
      "cell_type": "markdown",
      "source": "::: callout-note\n## Примітка\nПопередньо потрібно опрацювати лекцію 7.\n:::",
      "metadata": {}
    },
    {
      "cell_type": "markdown",
      "source": "::: callout-note\n## Примітка\nУ лабораторній роботі використано матеріали [python institute.](https://pythoninstitute.org/pcep) \n:::",
      "metadata": {}
    },
    {
      "cell_type": "markdown",
      "source": "## Що ви будете вміти?\n* створювати та обробляти кортежі (`tuple`).\n* створювати і обробляти словники (`dict`).\n* сумісно викростовувати словники і кортежі\n* обробляти основні типи винятків.",
      "metadata": {
        "tags": []
      }
    },
    {
      "cell_type": "markdown",
      "source": "## Робота зі словниками",
      "metadata": {}
    },
    {
      "cell_type": "markdown",
      "source": "### Приклад 1\n\nСтворіть кортеж, який містить інформацію про результати іспитів з трьох предметів для студента (наприклад, математика, фізика та хімія). Виведіть на екран середній бал та максимальний бал.",
      "metadata": {}
    },
    {
      "cell_type": "code",
      "source": "# results = (80, 75, 90)\n\naverage_score = sum(results) / len(results)\nmax_score = max(results)\n\nprint(f\"Середній бал: {average_score}\")\nprint(f\"Максимальний бал: {max_score}\")",
      "metadata": {},
      "outputs": [
        {
          "name": "stdout",
          "output_type": "stream",
          "text": [
            "Середній бал: 81.66666666666667\n",
            "Максимальний бал: 90\n"
          ]
        }
      ],
      "execution_count": 36
    },
    {
      "cell_type": "markdown",
      "source": "У цьому коді ми створюємо кортеж `results`, який містить оцінки студента з трьох предметів. Потім ми обчислюємо середній бал, використовуючи вбудовані функції `sum` та `len`, та максимальний бал, використовуючи вбудовану функцію `max`. Нарешті, ми виводимо ці значення на екран за допомогою функції `print`. Водночас ми продемонстрували один з варіантів форматованого виводу.",
      "metadata": {}
    },
    {
      "cell_type": "markdown",
      "source": "### Приклад 2 ",
      "metadata": {}
    },
    {
      "cell_type": "markdown",
      "source": "Створіть програму, яка буде обчислювати площу трикутника за трьома сторонами, які користувач введе з клавіатури. Збережіть введені користувачем значення за допомогою кортежів та виведіть їх на екран.",
      "metadata": {}
    },
    {
      "cell_type": "code",
      "source": "a = float(input(\"Введіть довжину першої сторони трикутника: \"))\nb = float(input(\"Введіть довжину другої сторони трикутника: \"))\nc = float(input(\"Введіть довжину третьої сторони трикутника: \"))\n\n# обчислюємо півпериметр\np = (a + b + c) / 2\n\n# обчислюємо площу трикутника за формулою Герона\narea = (p * (p - a) * (p - b) * (p - c)) ** 0.5\n\n# зберігаємо введені користувачем значення у кортеж\ntriangle_sides = (a, b, c)\n\n# виводимо на екран введені користувачем значення та площу трикутника\nprint(f\"Довжина сторін трикутника: {triangle_sides}\")\nprint(f\"Площа трикутника: {area}\")\n",
      "metadata": {},
      "outputs": [
        {
          "name": "stdin",
          "output_type": "stream",
          "text": [
            "Введіть довжину першої сторони трикутника:  1\n",
            "Введіть довжину другої сторони трикутника:  2\n",
            "Введіть довжину третьої сторони трикутника:  3\n"
          ]
        },
        {
          "name": "stdout",
          "output_type": "stream",
          "text": [
            "Довжина сторін трикутника: (1.0, 2.0, 3.0)\n",
            "Площа трикутника: 0.0\n"
          ]
        }
      ],
      "execution_count": 37
    },
    {
      "cell_type": "markdown",
      "source": "У цьому прикладі ми використовуємо кортеж `triangle_sides`, щоб зберегти довжини трьох сторін трикутника, які введені користувачем з клавіатури. ",
      "metadata": {}
    },
    {
      "cell_type": "markdown",
      "source": "### Приклад 3 ",
      "metadata": {}
    },
    {
      "cell_type": "markdown",
      "source": "Напишіть програму, яка змінює порядок елементів у кортежі. Користувач повинен ввести кортеж, а програма повинна вивести його елементи у зворотному порядку.",
      "metadata": {}
    },
    {
      "cell_type": "code",
      "source": "t = tuple(input(\"Введіть елементи кортежу, розділені комою: \").split(','))\n\n# змінюємо порядок елементів у кортежі\nreversed_t = t[::-1]\n\n# виводимо зворотний порядок елементів на екран\nprint(f\"Зворотний порядок елементів кортежу: {reversed_t}\")",
      "metadata": {},
      "outputs": [
        {
          "name": "stdin",
          "output_type": "stream",
          "text": [
            "Введіть елементи кортежу, розділені комою:  1, 2, 3, 4, 5\n"
          ]
        },
        {
          "name": "stdout",
          "output_type": "stream",
          "text": [
            "Зворотний порядок елементів кортежу: (' 5', ' 4', ' 3', ' 2', '1')\n"
          ]
        }
      ],
      "execution_count": 38
    },
    {
      "cell_type": "markdown",
      "source": "У цьому прикладі ми використовуємо оператор зрізу `[::]`, щоб змінити порядок елементів у кортежі `t` на зворотний порядок. Потім ми виводимо на екран зворотний порядок елементів у новому кортежі `reversed_t`.\n\nНаприклад, якщо користувач введе `\"1,2,3,4,5\"`, програма виведе на екран: \"Зворотний порядок елементів кортежу: `('5', '4', '3', '2', '1')`.",
      "metadata": {}
    },
    {
      "cell_type": "markdown",
      "source": "### Завдання 1",
      "metadata": {}
    },
    {
      "cell_type": "markdown",
      "source": "Напишіть програму, яка створює кортеж зі списку чисел, а потім виводить на екран всі числа, які менші за задане число `n`. Умова: користувач вводить число `n`, і   щоб створити новий список `result`, який містить всі числа з кортежу, які менші за `n`, реалізувати за допомогою генератора списків.",
      "metadata": {}
    },
    {
      "cell_type": "code",
      "source": "numbers = [10, 20, 30, 40, 50, 60, 70, 80, 90] \nn = int(input(\"Введіть число n: \")) \n\nnumbers_tuple = tuple(numbers)\n\nresult = [num for num in numbers_tuple if num < n]\n\nprint(\"Числа, менші за\", n, \":\", result)\n",
      "metadata": {
        "trusted": true
      },
      "outputs": [
        {
          "ename": "<class 'TypeError'>",
          "evalue": "int() argument must be a string, a bytes-like object or a real number, not 'PyodideFuture'",
          "traceback": [
            "\u001b[0;31m---------------------------------------------------------------------------\u001b[0m",
            "\u001b[0;31mTypeError\u001b[0m                                 Traceback (most recent call last)",
            "Cell \u001b[0;32mIn[1], line 2\u001b[0m\n\u001b[1;32m      1\u001b[0m numbers \u001b[38;5;241m=\u001b[39m [\u001b[38;5;241m10\u001b[39m, \u001b[38;5;241m20\u001b[39m, \u001b[38;5;241m30\u001b[39m, \u001b[38;5;241m40\u001b[39m, \u001b[38;5;241m50\u001b[39m, \u001b[38;5;241m60\u001b[39m, \u001b[38;5;241m70\u001b[39m, \u001b[38;5;241m80\u001b[39m, \u001b[38;5;241m90\u001b[39m] \n\u001b[0;32m----> 2\u001b[0m n \u001b[38;5;241m=\u001b[39m \u001b[38;5;28;43mint\u001b[39;49m\u001b[43m(\u001b[49m\u001b[38;5;28;43minput\u001b[39;49m\u001b[43m(\u001b[49m\u001b[38;5;124;43m\"\u001b[39;49m\u001b[38;5;124;43mВведіть число n: \u001b[39;49m\u001b[38;5;124;43m\"\u001b[39;49m\u001b[43m)\u001b[49m\u001b[43m)\u001b[49m \n\u001b[1;32m      4\u001b[0m numbers_tuple \u001b[38;5;241m=\u001b[39m \u001b[38;5;28mtuple\u001b[39m(numbers)\n\u001b[1;32m      6\u001b[0m result \u001b[38;5;241m=\u001b[39m [num \u001b[38;5;28;01mfor\u001b[39;00m num \u001b[38;5;129;01min\u001b[39;00m numbers_tuple \u001b[38;5;28;01mif\u001b[39;00m num \u001b[38;5;241m<\u001b[39m n]\n",
            "\u001b[0;31mTypeError\u001b[0m: int() argument must be a string, a bytes-like object or a real number, not 'PyodideFuture'"
          ],
          "output_type": "error"
        },
        {
          "output_type": "stream",
          "name": "stdin",
          "text": "Введіть число n:  90\n"
        }
      ],
      "execution_count": 1
    },
    {
      "cell_type": "markdown",
      "source": "### Завдання 2\nНапишіть програму, яка створює кортеж з трьох елементів, які є рядками, та з'єднує їх в один рядок з комою як роздільником. Примітка: з'єднати рядки також можна за допомогою методу `.joint()`",
      "metadata": {}
    },
    {
      "cell_type": "code",
      "source": "strings_tuple = (\"apple\", \"banana\", \"cherry\")\n\nresult = \", \".join(strings_tuple)\n\nprint(result)\n",
      "metadata": {
        "trusted": true
      },
      "outputs": [
        {
          "name": "stdout",
          "text": "apple, banana, cherry\n",
          "output_type": "stream"
        }
      ],
      "execution_count": 2
    },
    {
      "cell_type": "markdown",
      "source": "### Завдання 3 ",
      "metadata": {}
    },
    {
      "cell_type": "markdown",
      "source": "Створіть словник, який містить інформацію про книги в бібліотеці. Ключами будуть назви книг, а значеннями - автори, рік видання та кількість сторінок. Виведіть на екран інформацію про книгу, введену користувачем.",
      "metadata": {}
    },
    {
      "cell_type": "code",
      "source": "library = {\n    \"The Great Gatsby\": {\"author\": \"F. Scott Fitzgerald\", \"year\": 1925, \"pages\": 218},\n    \"1984\": {\"author\": \"George Orwell\", \"year\": 1949, \"pages\": 328},\n    \"To Kill a Mockingbird\": {\"author\": \"Harper Lee\", \"year\": 1960, \"pages\": 281},\n    \"Moby Dick\": {\"author\": \"Herman Melville\", \"year\": 1851, \"pages\": 635}\n}\n\nbook_title = input(\"Введіть назву книги: \")\n\nif book_title in library:\n    book_info = library[book_title]\n    print(f\"Інформація про книгу '{book_title}':\")\n    print(f\"Автор: {book_info['author']}\")\n    print(f\"Рік видання: {book_info['year']}\")\n    print(f\"Кількість сторінок: {book_info['pages']}\")\nelse:\n    print(\"Ця книга не знайдена в бібліотеці.\")\n",
      "metadata": {
        "trusted": true
      },
      "outputs": [
        {
          "name": "stdout",
          "text": "Ця книга не знайдена в бібліотеці.\n",
          "output_type": "stream"
        },
        {
          "output_type": "stream",
          "name": "stdin",
          "text": "Введіть назву книги:  Overlord\n"
        }
      ],
      "execution_count": 3
    },
    {
      "cell_type": "markdown",
      "source": "## Сумісна робота зі словниками і кортежами",
      "metadata": {}
    },
    {
      "cell_type": "markdown",
      "source": "### Приклад 1",
      "metadata": {}
    },
    {
      "cell_type": "markdown",
      "source": "Написати програму, яка веде облік студентів групи, забезпечуючи можливість зберігати ім'я і прізвище студента та його оцінки, і виводить середній бал по предметах.",
      "metadata": {}
    },
    {
      "cell_type": "code",
      "source": "# school_class = {}\n\n# while True:\n#     name = input(\"Enter the student's name: \")\n#     if name == '':\n#         break\n    \n#     score = int(input(\"Enter the student's score (0-10): \"))\n#     if score not in range(0, 11):\n# \t    break\n    \n#     if name in school_class:\n#         school_class[name] += (score,)\n#     else:\n#         school_class[name] = (score,)\n        \n# for name in sorted(school_class.keys()):\n#     adding = 0\n#     counter = 0\n#     for score in school_class[name]:\n#         adding += score\n#         counter += 1\n#     print(name, \":\", adding / counter)",
      "metadata": {},
      "outputs": [],
      "execution_count": 22
    },
    {
      "cell_type": "markdown",
      "source": "### Завдання 4",
      "metadata": {}
    },
    {
      "cell_type": "markdown",
      "source": "Напишіть програму, яка створює словник, що містить інформацію про студентів, використовуючи вказані кортежі в якості значень. Кожен ключ -- це прізвище студента. Виведіть на екран інформацію про студента, введеного користувачем.",
      "metadata": {}
    },
    {
      "cell_type": "code",
      "source": "students = {\n    \"Іванов\": (\"Іван\", 20, \"Інформатика\"),\n    \"Петров\": (\"Петро\", 21, \"Економіка\"),\n    \"Сидоров\": (\"Олександр\", 22, \"Математика\"),\n    \"Козак\": (\"Марія\", 19, \"Фізика\")\n}\n\nsurname = input(\"Введіть прізвище студента: \")\n\nif surname in students:\n    student_info = students[surname]\n    print(f\"Інформація про студента {surname}:\")\n    print(f\"Ім'я: {student_info[0]}\")\n    print(f\"Вік: {student_info[1]}\")\n    print(f\"Спеціальність: {student_info[2]}\")\nelse:\n    print(\"Студента з таким прізвищем не знайдено.\")\n",
      "metadata": {
        "trusted": true
      },
      "outputs": [
        {
          "name": "stdout",
          "text": "Студента з таким прізвищем не знайдено.\n",
          "output_type": "stream"
        },
        {
          "output_type": "stream",
          "name": "stdin",
          "text": "Введіть прізвище студента:  Конюх\n"
        }
      ],
      "execution_count": 5
    },
    {
      "cell_type": "markdown",
      "source": "### Завдання 5",
      "metadata": {}
    },
    {
      "cell_type": "markdown",
      "source": "Створіть словник, який містить інформацію про більше, ніж один номер телефону для кожного з контактів в телефонній книзі. Ключами будуть імена контактів, а значеннями - список їхніх номерів телефонів. Напишіть функцію, яка дозволяє додати новий номер телефону до списку номерів телефону певного контакту. Потім виведіть на екран список номерів телефонів для всіх контактів.",
      "metadata": {}
    },
    {
      "cell_type": "code",
      "source": "phonebook = {\n    \"Іван\": [\"123-456-789\", \"987-654-321\"],\n    \"Марія\": [\"234-567-890\"],\n    \"Олександр\": [\"345-678-901\", \"765-432-109\", \"543-210-987\"]\n}\n\ndef add_phone_number(contact_name, phone_number):\n    if contact_name in phonebook:\n        phonebook[contact_name].append(phone_number)  \n    else:\n        phonebook[contact_name] = [phone_number]\ncontact_name = input(\"Введіть ім'я контакту: \")\nphone_number = input(\"Введіть новий номер телефону: \")\nadd_phone_number(contact_name, phone_number)\n\nprint(\"\\nТелефонна книга:\")\nfor name, phones in phonebook.items():\n    print(f\"{name}: {', '.join(phones)}\")\n",
      "metadata": {
        "trusted": true
      },
      "outputs": [
        {
          "name": "stdout",
          "text": "\nТелефонна книга:\nІван: 123-456-789, 987-654-321\nМарія: 234-567-890\nОлександр: 345-678-901, 765-432-109, 543-210-987\n",
          "output_type": "stream"
        },
        {
          "ename": "<class 'TypeError'>",
          "evalue": "sequence item 0: expected str instance, PyodideFuture found",
          "traceback": [
            "\u001b[0;31m---------------------------------------------------------------------------\u001b[0m",
            "\u001b[0;31mTypeError\u001b[0m                                 Traceback (most recent call last)",
            "Cell \u001b[0;32mIn[6], line 19\u001b[0m\n\u001b[1;32m     17\u001b[0m \u001b[38;5;28mprint\u001b[39m(\u001b[38;5;124m\"\u001b[39m\u001b[38;5;130;01m\\n\u001b[39;00m\u001b[38;5;124mТелефонна книга:\u001b[39m\u001b[38;5;124m\"\u001b[39m)\n\u001b[1;32m     18\u001b[0m \u001b[38;5;28;01mfor\u001b[39;00m name, phones \u001b[38;5;129;01min\u001b[39;00m phonebook\u001b[38;5;241m.\u001b[39mitems():\n\u001b[0;32m---> 19\u001b[0m     \u001b[38;5;28mprint\u001b[39m(\u001b[38;5;124mf\u001b[39m\u001b[38;5;124m\"\u001b[39m\u001b[38;5;132;01m{\u001b[39;00mname\u001b[38;5;132;01m}\u001b[39;00m\u001b[38;5;124m: \u001b[39m\u001b[38;5;132;01m{\u001b[39;00m\u001b[38;5;124;43m'\u001b[39;49m\u001b[38;5;124;43m, \u001b[39;49m\u001b[38;5;124;43m'\u001b[39;49m\u001b[38;5;241;43m.\u001b[39;49m\u001b[43mjoin\u001b[49m\u001b[43m(\u001b[49m\u001b[43mphones\u001b[49m\u001b[43m)\u001b[49m\u001b[38;5;132;01m}\u001b[39;00m\u001b[38;5;124m\"\u001b[39m)\n",
            "\u001b[0;31mTypeError\u001b[0m: sequence item 0: expected str instance, PyodideFuture found"
          ],
          "output_type": "error"
        },
        {
          "output_type": "stream",
          "name": "stdin",
          "text": "Введіть ім'я контакту:  Іван\n"
        }
      ],
      "execution_count": 6
    },
    {
      "cell_type": "markdown",
      "source": "## Завдання для самостіної роботи\n\n1. Виконати завдання 1-5 наведені вище у цьому зошиті.\n\n1. Створити файл __lab_7_StudentLastName.py__ з написаним кодом. \n\n1. Закомітити файл у локальний репозиторій.\n\n1. Відправити (\"запушити\") поточну версію Git-проєкта у віддалений репозиторій на GitHub.\n\n1. Звіт має складатися з файлу (за основу взяти __цей Python-зошит__)  `lab_7_StudentLastName.ipynb`. (Можливі якісь додакові файли)",
      "metadata": {}
    },
    {
      "cell_type": "markdown",
      "source": "## Контрольні запитання\n\n1. Що виведе наступний код?\n\n```\nmy_tuple = (1, 2, 3)\nprint(my_tuple[1:])\n```\n\n2. Що виведе наступний код?\n```\nmy_dict = {'a': 1, 'b': 2, 'c': 3}\nprint(my_dict.get('d', 4))\n```\n\n3. Що виведе наступний код?\n```\nmy_tuple = (1, 2, 3)\nmy_tuple[0] = 4\nprint(my_tuple)\n```\n\n4. Що виведе наступний код?\n```\nmy_dict = {'a': 1, 'b': 2, 'c': 3}\nmy_dict.update({'d': 4})\nprint(my_dict)\n```\n",
      "metadata": {}
    },
    {
      "cell_type": "markdown",
      "source": "1. (2,3)\n2. 4\n3. {'a': 1, 'b': 2, 'c': 3, 'd': 4}\n4. ",
      "metadata": {}
    },
    {
      "cell_type": "markdown",
      "source": "## References",
      "metadata": {}
    },
    {
      "cell_type": "markdown",
      "source": "1. [Anaconda (Python distribution)](https://uk.wikipedia.org/wiki/Anaconda_(Python_distribution))\n2. [Conda](https://conda.io/en/latest/)\n3. [Pro Git Book](https://git-scm.com/book/en/v2)\n4. [OpenEDG Python Institute](https://pythoninstitute.org/)\n5. [Cisco. Networking Academy](https://www.netacad.com/)\n6. [Научно-издательская система Quarto](https://data-visualization-blog.netlify.app/posts/quarto/)",
      "metadata": {}
    }
  ]
}